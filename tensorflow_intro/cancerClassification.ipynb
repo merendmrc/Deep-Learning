{
 "cells": [
  {
   "cell_type": "code",
   "execution_count": null,
   "metadata": {},
   "outputs": [],
   "source": [
    "import pandas as pd\n",
    "import numpy as np\n",
    "import tensorflow as tf\n",
    "from tensorflow.keras.models import Sequential\n",
    "from tensorflow.keras.layers import Dense, Dropout\n",
    "from sklearn.metrics import accuracy_score, classification_report, confusion_matrix\n",
    "from sklearn.preprocessing import MinMaxScaler, LabelEncoder\n",
    "from sklearn.model_selection import train_test_split\n",
    "from tensorflow.keras.callbacks import EarlyStopping\n",
    "import matplotlib.pyplot as plt"
   ]
  },
  {
   "cell_type": "code",
   "execution_count": null,
   "metadata": {},
   "outputs": [],
   "source": [
    "data = pd.read_csv(\"Cancer_Data.csv\")\n",
    "data = data.drop(\"Unnamed: 32\", axis=1)"
   ]
  },
  {
   "cell_type": "code",
   "execution_count": null,
   "metadata": {},
   "outputs": [],
   "source": [
    "id = data[\"id\"]\n",
    "data = data.drop(\"id\", axis=1)"
   ]
  },
  {
   "cell_type": "code",
   "execution_count": null,
   "metadata": {},
   "outputs": [],
   "source": [
    "encoder_ = LabelEncoder()\n",
    "encoder_.fit(data[\"diagnosis\"])\n",
    "data[\"diagnosis\"] = encoder_.transform(data[\"diagnosis\"])"
   ]
  },
  {
   "cell_type": "code",
   "execution_count": null,
   "metadata": {},
   "outputs": [],
   "source": [
    "y_data = data[\"diagnosis\"].values\n",
    "x_data = data.drop(\"diagnosis\", axis=1).values\n",
    "x_train, x_test, y_train, y_test = train_test_split(x_data, y_data, test_size=0.3, random_state=42, stratify= y_data)"
   ]
  },
  {
   "cell_type": "code",
   "execution_count": null,
   "metadata": {},
   "outputs": [],
   "source": [
    "# model = Sequential()\n",
    "\n",
    "# model.add(Dense(30, activation=\"relu\"))\n",
    "# model.add(Dense(15, activation=\"relu\"))\n",
    "# model.add(Dense(15, activation=\"relu\"))\n",
    "# model.add(Dense(15, activation=\"relu\"))\n",
    "# model.add(Dense(15, activation=\"relu\"))\n",
    "# model.add(Dense(15, activation=\"relu\"))\n",
    "# model.add(Dense(1, activation=\"sigmoid\"))\n",
    "\n",
    "# model.compile(loss=\"binary_crossentropy\", optimizer=\"adam\")\n",
    "\n",
    "# es = EarlyStopping(monitor=\"val_loss\", mode=\"min\", patience=30, verbose=1)\n",
    "\n",
    "# model.fit(x_train, y_train, validation_data=(x_test,y_test), callbacks=[es], epochs=1000, verbose=1)\n",
    "\n",
    "\n",
    "model = Sequential()\n",
    "\n",
    "model.add(Dense(30, activation=\"relu\"))\n",
    "model.add(Dense(30, activation=\"relu\"))\n",
    "model.add(Dense(30, activation=\"relu\"))\n",
    "model.add(Dense(15, activation=\"relu\"))\n",
    "model.add(Dense(15, activation=\"relu\"))\n",
    "model.add(Dense(15, activation=\"relu\"))\n",
    "model.add(Dense(15, activation=\"relu\"))\n",
    "model.add(Dense(15, activation=\"relu\"))\n",
    "model.add(Dense(1, activation=\"sigmoid\"))\n",
    "\n",
    "model.compile(loss=\"binary_crossentropy\", optimizer=\"adam\")\n",
    "\n",
    "es = EarlyStopping(monitor=\"val_loss\", mode=\"min\", patience=30, verbose=1)\n",
    "\n",
    "model.fit(x_train, y_train, validation_data=(x_test,y_test), callbacks=[es], epochs=1000, verbose=1)"
   ]
  },
  {
   "cell_type": "code",
   "execution_count": null,
   "metadata": {},
   "outputs": [],
   "source": [
    "model.save(\"cancerClassification.h5\")"
   ]
  },
  {
   "cell_type": "code",
   "execution_count": null,
   "metadata": {},
   "outputs": [],
   "source": [
    "loss_graph = pd.DataFrame(model.history.history)\n",
    "loss_graph.plot()"
   ]
  },
  {
   "cell_type": "code",
   "execution_count": null,
   "metadata": {},
   "outputs": [],
   "source": [
    "predictss = (model.predict(x_test)>0.5).astype(\"int32\")"
   ]
  },
  {
   "cell_type": "code",
   "execution_count": null,
   "metadata": {},
   "outputs": [],
   "source": [
    "print(f\"\"\"\n",
    "cr = {classification_report(y_true=y_test, y_pred= predictss)}\n",
    "cm =\\n {confusion_matrix(y_true=y_test, y_pred= predictss)}\n",
    "as = {accuracy_score(y_true=y_test, y_pred= predictss)}\n",
    "\"\"\")"
   ]
  },
  {
   "cell_type": "code",
   "execution_count": null,
   "metadata": {},
   "outputs": [],
   "source": [
    "# ma = confusion_matrix(y_test, predictss)\n",
    "# pd.DataFrame(ma , columns=[\"Pred FALSE\", \"Pred TRUE\"], index=[\"Abs False\",\"Abs TRUE\"])"
   ]
  },
  {
   "cell_type": "code",
   "execution_count": null,
   "metadata": {},
   "outputs": [],
   "source": [
    "y_test = encoder_.inverse_transform(y_test)\n",
    "predictss = encoder_.inverse_transform(predictss)\n",
    "\n",
    "results = pd.DataFrame(y_test, columns=[\"predictions\"])\n",
    "results[\"true values\"] = predictss"
   ]
  },
  {
   "cell_type": "code",
   "execution_count": null,
   "metadata": {},
   "outputs": [],
   "source": [
    "results"
   ]
  },
  {
   "cell_type": "code",
   "execution_count": null,
   "metadata": {},
   "outputs": [],
   "source": [
    "results.to_excel(\"cancer_classification_results.xlsx\", engine='openpyxl')"
   ]
  }
 ],
 "metadata": {
  "kernelspec": {
   "display_name": "base",
   "language": "python",
   "name": "python3"
  },
  "language_info": {
   "codemirror_mode": {
    "name": "ipython",
    "version": 3
   },
   "file_extension": ".py",
   "mimetype": "text/x-python",
   "name": "python",
   "nbconvert_exporter": "python",
   "pygments_lexer": "ipython3",
   "version": "3.12.4"
  }
 },
 "nbformat": 4,
 "nbformat_minor": 2
}
